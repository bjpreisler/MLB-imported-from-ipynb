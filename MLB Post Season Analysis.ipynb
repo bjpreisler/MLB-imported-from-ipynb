{
 "cells": [
  {
   "cell_type": "markdown",
   "metadata": {},
   "source": [
    "## MLB Post Season Analysis\n",
    "By: Brian Preisler\n",
    "Udacity Data Analysis Nanodegree\n",
    "November 2016\n",
    "\n",
    "The questions this analysis will attempt to answer:\n",
    "\n",
    "- Do the batting averages of American Major League baseball players significantly change either positively or negatively in the post season compared to the regular season?  \n",
    "\n",
    "- If post season batting averages are significantly different from the regular season, this analysis will look at three potential leading contributors or independent variables to see which, if any, mostly closely affect the dependent variable  \n",
    "    -Salaries  \n",
    "    -College experience  \n",
    "    -Awards earned in regular season"
   ]
  },
  {
   "cell_type": "markdown",
   "metadata": {},
   "source": [
    "## Load Libraries to be used later"
   ]
  },
  {
   "cell_type": "code",
   "execution_count": 1,
   "metadata": {
    "collapsed": true
   },
   "outputs": [],
   "source": [
    "import numpy as np\n",
    "import pandas as pd\n",
    "import numpy as np\n",
    "import matplotlib.pyplot as plt \n",
    "import seaborn as sns\n",
    "import scipy\n",
    "from scipy import stats"
   ]
  },
  {
   "cell_type": "markdown",
   "metadata": {},
   "source": [
    "## Load data from CSVs"
   ]
  },
  {
   "cell_type": "code",
   "execution_count": 2,
   "metadata": {
    "collapsed": false
   },
   "outputs": [],
   "source": [
    "#Imports the datasets as pandas dataframes to be used in the analysis\n",
    "batting = pd.read_csv('C:\\\\Users\\\\brian.preisler\\\\Python\\\\P2\\\\baseballdatabank-master\\\\core\\\\batting.csv')\n",
    "batting_post = pd.read_csv('C:\\\\Users\\\\brian.preisler\\\\Python\\\\P2\\\\baseballdatabank-master\\\\core\\\\battingpost.csv')\n",
    "salaries = pd.read_csv('C:\\\\Users\\\\brian.preisler\\\\Python\\\\P2\\\\baseballdatabank-master\\\\core\\\\salaries.csv')\n",
    "college_playing = pd.read_csv('C:\\\\Users\\\\brian.preisler\\\\Python\\\\P2\\\\baseballdatabank-master\\\\core\\\\collegeplaying.csv')\n",
    "awards = pd.read_csv('C:\\\\Users\\\\brian.preisler\\\\Python\\\\P2\\\\baseballdatabank-master\\\\core\\\\awardsplayers.csv')\n"
   ]
  },
  {
   "cell_type": "markdown",
   "metadata": {},
   "source": [
    "### Look at raw data size, length, etc. to ensure future merges are working correctly"
   ]
  },
  {
   "cell_type": "code",
   "execution_count": 3,
   "metadata": {
    "collapsed": false
   },
   "outputs": [
    {
     "name": "stdout",
     "output_type": "stream",
     "text": [
      "Index([u'playerID', u'yearID', u'stint', u'teamID', u'lgID', u'G', u'AB', u'R',\n",
      "       u'H', u'2B', u'3B', u'HR', u'RBI', u'SB', u'CS', u'BB', u'SO', u'IBB',\n",
      "       u'HBP', u'SH', u'SF', u'GIDP'],\n",
      "      dtype='object')\n",
      "number of rows in batting: 101332\n",
      "number of rows in batting in the post season: 11690\n",
      "number of rows in batting after grouping on player: 18659\n",
      "same for post season: 3973\n"
     ]
    }
   ],
   "source": [
    "#Print out some data to look at columns as well as original size of datasets\n",
    "print batting.columns\n",
    "print 'number of rows in batting:', len(batting)\n",
    "print 'number of rows in batting in the post season:', len(batting_post)\n",
    "print 'number of rows in batting after grouping on player:',len(batting.groupby('playerID'))\n",
    "print 'same for post season:', len(batting_post.groupby('playerID'))"
   ]
  },
  {
   "cell_type": "markdown",
   "metadata": {},
   "source": [
    "## Clean data types"
   ]
  },
  {
   "cell_type": "code",
   "execution_count": 4,
   "metadata": {
    "collapsed": false
   },
   "outputs": [
    {
     "data": {
      "text/html": [
       "<div>\n",
       "<table border=\"1\" class=\"dataframe\">\n",
       "  <thead>\n",
       "    <tr style=\"text-align: right;\">\n",
       "      <th></th>\n",
       "      <th>playerID</th>\n",
       "      <th>H</th>\n",
       "      <th>AB</th>\n",
       "    </tr>\n",
       "  </thead>\n",
       "  <tbody>\n",
       "    <tr>\n",
       "      <th>201</th>\n",
       "      <td>colliji01</td>\n",
       "      <td>9</td>\n",
       "      <td>36</td>\n",
       "    </tr>\n",
       "    <tr>\n",
       "      <th>202</th>\n",
       "      <td>crigelo01</td>\n",
       "      <td>6</td>\n",
       "      <td>26</td>\n",
       "    </tr>\n",
       "    <tr>\n",
       "      <th>203</th>\n",
       "      <td>dinnebi01</td>\n",
       "      <td>2</td>\n",
       "      <td>11</td>\n",
       "    </tr>\n",
       "    <tr>\n",
       "      <th>204</th>\n",
       "      <td>doughpa01</td>\n",
       "      <td>8</td>\n",
       "      <td>34</td>\n",
       "    </tr>\n",
       "    <tr>\n",
       "      <th>205</th>\n",
       "      <td>farredu01</td>\n",
       "      <td>0</td>\n",
       "      <td>1</td>\n",
       "    </tr>\n",
       "  </tbody>\n",
       "</table>\n",
       "</div>"
      ],
      "text/plain": [
       "      playerID  H  AB\n",
       "201  colliji01  9  36\n",
       "202  crigelo01  6  26\n",
       "203  dinnebi01  2  11\n",
       "204  doughpa01  8  34\n",
       "205  farredu01  0   1"
      ]
     },
     "execution_count": 4,
     "metadata": {},
     "output_type": "execute_result"
    }
   ],
   "source": [
    "#only use stats from the modern era, in alignment with the norm for MLB stat keeping\n",
    "batting = batting.drop(batting[batting.yearID < 1900].index)\n",
    "batting_post = batting_post.drop(batting_post[batting_post.yearID < 1900].index)\n",
    "college_playing = college_playing.drop(college_playing[college_playing.yearID < 1900].index)\n",
    "salaries = salaries.drop(salaries[salaries.yearID < 1900].index)\n",
    "\n",
    "#trim down the imported data to just what is needed for clarity\n",
    "batting_raw = batting.loc[:, ['playerID', 'H', 'AB']]\n",
    "batting_post_raw = batting_post.loc[:, ['playerID', 'H', 'AB']]\n",
    "college_playing_raw = college_playing.loc[:, ['playerID', 'yearID']]\n",
    "awards_raw = awards.loc[:, ['playerID', 'yearID']]\n",
    "\n",
    "#take a quick look for future reference\n",
    "batting_post_raw.head(5)"
   ]
  },
  {
   "cell_type": "markdown",
   "metadata": {},
   "source": [
    "\n",
    "## Arrange data as needed"
   ]
  },
  {
   "cell_type": "code",
   "execution_count": 5,
   "metadata": {
    "collapsed": false
   },
   "outputs": [],
   "source": [
    "#grouped by player id and then morphed back into df\n",
    "#groupby objects aren't as flexible as dfs which is why I change them back\n",
    "batting_raw_grouped = batting_raw.groupby('playerID', as_index = False)\n",
    "batting_post_raw_grouped = batting_post_raw.groupby('playerID',as_index = False)\n",
    "college_playing_raw_grouped = college_playing_raw.groupby('playerID',as_index = False)\n",
    "salaries_raw_grouped = salaries.groupby('playerID',as_index = False)\n",
    "awards_raw_grouped = awards.groupby('playerID',as_index = False)\n",
    "\n",
    "#the variables of the dataframes that will used from now on (trimmed down and grouped appropriately)\n",
    "batting_df = batting_raw_grouped.aggregate(np.sum)\n",
    "bp_df = batting_post_raw_grouped.aggregate(np.sum)\n",
    "cp_df = college_playing_raw_grouped.aggregate(np.sum)\n",
    "salaries_df = salaries_raw_grouped.aggregate(np.sum)\n",
    "awards_df = awards_raw_grouped.aggregate(np.sum)"
   ]
  },
  {
   "cell_type": "code",
   "execution_count": 6,
   "metadata": {
    "collapsed": false
   },
   "outputs": [
    {
     "data": {
      "text/html": [
       "<div>\n",
       "<table border=\"1\" class=\"dataframe\">\n",
       "  <thead>\n",
       "    <tr style=\"text-align: right;\">\n",
       "      <th></th>\n",
       "      <th>playerID</th>\n",
       "      <th>H_x</th>\n",
       "      <th>AB_x</th>\n",
       "      <th>H_y</th>\n",
       "      <th>AB_y</th>\n",
       "      <th>AVG</th>\n",
       "      <th>AVGPOST</th>\n",
       "      <th>AVG_DIFF</th>\n",
       "      <th>yearID</th>\n",
       "    </tr>\n",
       "  </thead>\n",
       "  <tbody>\n",
       "    <tr>\n",
       "      <th>0</th>\n",
       "      <td>aaronha01</td>\n",
       "      <td>3771.0</td>\n",
       "      <td>12364.0</td>\n",
       "      <td>25</td>\n",
       "      <td>69</td>\n",
       "      <td>0.304998</td>\n",
       "      <td>0.362319</td>\n",
       "      <td>0.057320</td>\n",
       "      <td>0.0</td>\n",
       "    </tr>\n",
       "    <tr>\n",
       "      <th>1</th>\n",
       "      <td>aaronto01</td>\n",
       "      <td>216.0</td>\n",
       "      <td>944.0</td>\n",
       "      <td>0</td>\n",
       "      <td>1</td>\n",
       "      <td>0.228814</td>\n",
       "      <td>0.000000</td>\n",
       "      <td>-0.228814</td>\n",
       "      <td>0.0</td>\n",
       "    </tr>\n",
       "    <tr>\n",
       "      <th>2</th>\n",
       "      <td>abadfe01</td>\n",
       "      <td>1.0</td>\n",
       "      <td>8.0</td>\n",
       "      <td>0</td>\n",
       "      <td>0</td>\n",
       "      <td>0.125000</td>\n",
       "      <td>NaN</td>\n",
       "      <td>NaN</td>\n",
       "      <td>0.0</td>\n",
       "    </tr>\n",
       "    <tr>\n",
       "      <th>3</th>\n",
       "      <td>abbated01</td>\n",
       "      <td>748.0</td>\n",
       "      <td>2942.0</td>\n",
       "      <td>0</td>\n",
       "      <td>1</td>\n",
       "      <td>0.254249</td>\n",
       "      <td>0.000000</td>\n",
       "      <td>-0.254249</td>\n",
       "      <td>0.0</td>\n",
       "    </tr>\n",
       "    <tr>\n",
       "      <th>4</th>\n",
       "      <td>abbotje01</td>\n",
       "      <td>157.0</td>\n",
       "      <td>596.0</td>\n",
       "      <td>0</td>\n",
       "      <td>1</td>\n",
       "      <td>0.263423</td>\n",
       "      <td>0.000000</td>\n",
       "      <td>-0.263423</td>\n",
       "      <td>5977.0</td>\n",
       "    </tr>\n",
       "  </tbody>\n",
       "</table>\n",
       "</div>"
      ],
      "text/plain": [
       "    playerID     H_x     AB_x  H_y  AB_y       AVG   AVGPOST  AVG_DIFF  yearID\n",
       "0  aaronha01  3771.0  12364.0   25    69  0.304998  0.362319  0.057320     0.0\n",
       "1  aaronto01   216.0    944.0    0     1  0.228814  0.000000 -0.228814     0.0\n",
       "2   abadfe01     1.0      8.0    0     0  0.125000       NaN       NaN     0.0\n",
       "3  abbated01   748.0   2942.0    0     1  0.254249  0.000000 -0.254249     0.0\n",
       "4  abbotje01   157.0    596.0    0     1  0.263423  0.000000 -0.263423  5977.0"
      ]
     },
     "execution_count": 6,
     "metadata": {},
     "output_type": "execute_result"
    }
   ],
   "source": [
    "#combine the datasets with an inner join to just keep those players that have stats\n",
    "#in the regular season and post season, and with a left join to verify if they played\n",
    "#in college\n",
    "\n",
    "def combine_dfs(data1, data2):    \n",
    "    combined = data1.merge(data2, on = 'playerID', how = 'inner')\n",
    "    return combined\n",
    "\n",
    "def combine_dfs_left(data1, data2):    \n",
    "    combined = pd.merge(left = data1, right = data2, how = 'left', left_on = 'playerID', right_on = 'playerID')\n",
    "    return combined\n",
    "\n",
    "#combining datasets in order to compare means more easily and verify the same\n",
    "#number of players\n",
    "batting_combined = combine_dfs(batting_df, bp_df)\n",
    "\n",
    "#add an avg column to the dataset for comparison purposes\n",
    "batting_combined['AVG'] = batting_combined['H_x'] / batting_combined['AB_x']\n",
    "batting_combined['AVGPOST'] = batting_combined['H_y'] / batting_combined['AB_y']\n",
    "\n",
    "#create a difference column to see which players performed better or worse in post season\n",
    "batting_combined['AVG_DIFF'] = batting_combined['AVGPOST'] - batting_combined['AVG']\n",
    "\n",
    "#using aforementioned function to keep all players in both datasets\n",
    "batting_combined_college = combine_dfs_left(batting_combined, cp_df)\n",
    "batting_combined_awards = combine_dfs_left(batting_combined, awards_df)\n",
    "\n",
    "#print len(batting_combined_college)\n",
    "\n",
    "#in order to make a binary column later on, replace Nans with a 0\n",
    "batting_combined_college['yearID'].fillna(0, inplace=True)\n",
    "batting_combined_college['yearID'].fillna(0, inplace=True)\n",
    "\n",
    "\n",
    "batting_combined_college.head(5)"
   ]
  },
  {
   "cell_type": "markdown",
   "metadata": {},
   "source": [
    "The last function of fillna is one way I dealt with missing values.  I used a left merge which I knew would leave me with missing values for the players who did not go to college.  In order to do later analysis, I filled in those missing values with zeroes."
   ]
  },
  {
   "cell_type": "markdown",
   "metadata": {},
   "source": [
    "## Continue to prep data for future correlation analysis"
   ]
  },
  {
   "cell_type": "code",
   "execution_count": 7,
   "metadata": {
    "collapsed": false
   },
   "outputs": [
    {
     "data": {
      "text/html": [
       "<div>\n",
       "<table border=\"1\" class=\"dataframe\">\n",
       "  <thead>\n",
       "    <tr style=\"text-align: right;\">\n",
       "      <th></th>\n",
       "      <th>playerID</th>\n",
       "      <th>H_x</th>\n",
       "      <th>AB_x</th>\n",
       "      <th>H_y</th>\n",
       "      <th>AB_y</th>\n",
       "      <th>AVG</th>\n",
       "      <th>AVGPOST</th>\n",
       "      <th>AVG_DIFF</th>\n",
       "      <th>yearID</th>\n",
       "    </tr>\n",
       "  </thead>\n",
       "  <tbody>\n",
       "    <tr>\n",
       "      <th>0</th>\n",
       "      <td>aaronha01</td>\n",
       "      <td>3771.0</td>\n",
       "      <td>12364.0</td>\n",
       "      <td>25</td>\n",
       "      <td>69</td>\n",
       "      <td>0.304998</td>\n",
       "      <td>0.362319</td>\n",
       "      <td>0.057320</td>\n",
       "      <td>0</td>\n",
       "    </tr>\n",
       "    <tr>\n",
       "      <th>1</th>\n",
       "      <td>aaronto01</td>\n",
       "      <td>216.0</td>\n",
       "      <td>944.0</td>\n",
       "      <td>0</td>\n",
       "      <td>1</td>\n",
       "      <td>0.228814</td>\n",
       "      <td>0.000000</td>\n",
       "      <td>-0.228814</td>\n",
       "      <td>0</td>\n",
       "    </tr>\n",
       "    <tr>\n",
       "      <th>2</th>\n",
       "      <td>abadfe01</td>\n",
       "      <td>1.0</td>\n",
       "      <td>8.0</td>\n",
       "      <td>0</td>\n",
       "      <td>0</td>\n",
       "      <td>0.125000</td>\n",
       "      <td>NaN</td>\n",
       "      <td>NaN</td>\n",
       "      <td>0</td>\n",
       "    </tr>\n",
       "    <tr>\n",
       "      <th>3</th>\n",
       "      <td>abbated01</td>\n",
       "      <td>748.0</td>\n",
       "      <td>2942.0</td>\n",
       "      <td>0</td>\n",
       "      <td>1</td>\n",
       "      <td>0.254249</td>\n",
       "      <td>0.000000</td>\n",
       "      <td>-0.254249</td>\n",
       "      <td>0</td>\n",
       "    </tr>\n",
       "    <tr>\n",
       "      <th>4</th>\n",
       "      <td>abbotje01</td>\n",
       "      <td>157.0</td>\n",
       "      <td>596.0</td>\n",
       "      <td>0</td>\n",
       "      <td>1</td>\n",
       "      <td>0.263423</td>\n",
       "      <td>0.000000</td>\n",
       "      <td>-0.263423</td>\n",
       "      <td>1</td>\n",
       "    </tr>\n",
       "  </tbody>\n",
       "</table>\n",
       "</div>"
      ],
      "text/plain": [
       "    playerID     H_x     AB_x  H_y  AB_y       AVG   AVGPOST  AVG_DIFF  yearID\n",
       "0  aaronha01  3771.0  12364.0   25    69  0.304998  0.362319  0.057320       0\n",
       "1  aaronto01   216.0    944.0    0     1  0.228814  0.000000 -0.228814       0\n",
       "2   abadfe01     1.0      8.0    0     0  0.125000       NaN       NaN       0\n",
       "3  abbated01   748.0   2942.0    0     1  0.254249  0.000000 -0.254249       0\n",
       "4  abbotje01   157.0    596.0    0     1  0.263423  0.000000 -0.263423       1"
      ]
     },
     "execution_count": 7,
     "metadata": {},
     "output_type": "execute_result"
    }
   ],
   "source": [
    "#define function to be used to add binary column\n",
    "def invert(data):\n",
    "    if data > 0:\n",
    "        return 1\n",
    "    else:\n",
    "        return 0   \n",
    "def played_in_college(df):\n",
    "    over_write = df['yearID'].apply(invert)\n",
    "    df['yearID'] = over_write\n",
    "    return df\n",
    "\n",
    "#use functions to add df column on which to run a correlation\n",
    "college_dataset = played_in_college(batting_combined_college)\n",
    "awards_dataset = played_in_college(batting_combined_awards)\n",
    "\n",
    "#double check to make sure function applied properly\n",
    "college_dataset.head()"
   ]
  },
  {
   "cell_type": "markdown",
   "metadata": {},
   "source": [
    "## Investigating the data"
   ]
  },
  {
   "cell_type": "code",
   "execution_count": 11,
   "metadata": {
    "collapsed": false,
    "scrolled": true
   },
   "outputs": [
    {
     "name": "stdout",
     "output_type": "stream",
     "text": [
      "The average of players batting in the regular season is: 0.218\n",
      "The average of players batting in the post season is: 0.197\n"
     ]
    },
    {
     "data": {
      "image/png": "[encoded data removed]",
      "text/plain": [
       "<matplotlib.figure.Figure at 0xf4f1668>"
      ]
     },
     "metadata": {},
     "output_type": "display_data"
    }
   ],
   "source": [
    "%matplotlib inline\n",
    "\n",
    "#allow figures to continue opening past warnings\n",
    "plt.rcParams.update({'figure.max_open_warning': 0})\n",
    "\n",
    "#finding the means of the two groups \n",
    "print 'The average of players batting in the regular season is:', round(batting_combined['AVG'].mean(),3)\n",
    "print 'The average of players batting in the post season is:', round(batting_combined['AVGPOST'].mean(),3)\n",
    "\n",
    "#placing the two sets of avg data into one df to be used when plotting and testing\n",
    "avg_avgpost = batting_combined.loc[:,['AVG', 'AVGPOST']]\n",
    "\n",
    "#checking out normality of distributions\n",
    "plot = avg_avgpost.plot.hist(by='AVG', bins=30)\n",
    "plt.title('Regular Season Batting Avg and Post Season Batting Avg')\n",
    "plot.set_xlabel('Batting Averages')\n",
    "plot.set_ylabel('Frequency of MLB Players');"
   ]
  },
  {
   "cell_type": "markdown",
   "metadata": {},
   "source": [
    "The above graph depicts why the means for regular season and post season batting averages are different.  The spike of batters having an AVG of 0 in the post season is what is being investigated in the following correlations"
   ]
  },
  {
   "cell_type": "markdown",
   "metadata": {
    "collapsed": true
   },
   "source": [
    "## Determine Statistical Sig of means difference\n"
   ]
  },
  {
   "cell_type": "code",
   "execution_count": 17,
   "metadata": {
    "collapsed": false
   },
   "outputs": [
    {
     "data": {
      "text/plain": [
       "Ttest_relResult(statistic=12.297664268621062, pvalue=5.9131855996600482e-34)"
      ]
     },
     "execution_count": 17,
     "metadata": {},
     "output_type": "execute_result"
    }
   ],
   "source": [
    "#running a paired t-test to determine if diff of means could be due to chance\n",
    "scipy.stats.ttest_rel(avg_avgpost.loc[:, 'AVG'], avg_avgpost.loc[:, 'AVGPOST'], axis=0, nan_policy='omit')"
   ]
  },
  {
   "cell_type": "markdown",
   "metadata": {},
   "source": [
    "The scipy library has a built in ability with t-tests to calculate the test by omitting the NaNs.  This allowed me to run the test despite missing values."
   ]
  },
  {
   "cell_type": "markdown",
   "metadata": {},
   "source": [
    "A paired t-test was run because the players in each population are the same.  The p-value, or the probability of these means occuring purely by chance is very low meaning that we can say that the averages are statistically significant from each other.  This leads us into the following analysis."
   ]
  },
  {
   "cell_type": "markdown",
   "metadata": {},
   "source": [
    "## Investigate variables that could explain difference"
   ]
  },
  {
   "cell_type": "code",
   "execution_count": 13,
   "metadata": {
    "collapsed": false
   },
   "outputs": [
    {
     "name": "stdout",
     "output_type": "stream",
     "text": [
      "The correlation between salaries and the incr/dec of batting avg is: 0.005\n"
     ]
    },
    {
     "data": {
      "image/png": "[encoded data removed]",
      "text/plain": [
       "<matplotlib.figure.Figure at 0xf5d9940>"
      ]
     },
     "metadata": {},
     "output_type": "display_data"
    }
   ],
   "source": [
    "#investigate whether salaries have an impact by checking the correlation with AVG_DIFF\n",
    "batting_combined_salaries = combine_dfs(batting_combined, salaries_df)\n",
    "\n",
    "#check and see if any player variable correlate to their post season performance\n",
    "avg_diff_salaries = batting_combined_salaries.loc[:,['AVG_DIFF', 'salary']]\n",
    "corr_test = avg_diff_salaries.corr()\n",
    "\n",
    "#set up the plot to use a secondary y axis\n",
    "fig = plt.figure()\n",
    "fig.suptitle('MLB Salaries and Difference Between Reg/Post Season Batting AVG')\n",
    "ax1 = fig.gca()\n",
    "ax1.plot(range(len(avg_diff_salaries)), avg_diff_salaries['AVG_DIFF'])\n",
    "ax1.set_ylabel('Incr/Decr in Post Season Avg')\n",
    "ax1.set_xlabel('MLB Players from 1900-2015 who played in regular season and post season')\n",
    "\n",
    "ax2 = ax1.twinx()\n",
    "ax2.plot(range(len(avg_diff_salaries)), avg_diff_salaries['salary'], 'g-')\n",
    "ax2.set_ylabel('Salaries in 100k', color='g')\n",
    "for tl in ax2.get_yticklabels():\n",
    "    tl.set_color('g')\n",
    "\n",
    "#print avg_diff_salaries\n",
    "print 'The correlation between salaries and the incr/dec of batting avg is:', round(corr_test.iloc[1,0],3)"
   ]
  },
  {
   "cell_type": "markdown",
   "metadata": {},
   "source": [
    "The line chart above is reflective of the very weak correlation of .005 that was calculated.  As you can see, there appears to be no relationship either direct or indirect between the salaries or the difference in batting averages.  You would certainly expect to see somewhat of a spike near the 2.5 million and 4 milion dollar salaries if there was a positive correlation."
   ]
  },
  {
   "cell_type": "markdown",
   "metadata": {},
   "source": [
    "### Check correlation to college attendance"
   ]
  },
  {
   "cell_type": "code",
   "execution_count": 14,
   "metadata": {
    "collapsed": false
   },
   "outputs": [
    {
     "name": "stdout",
     "output_type": "stream",
     "text": [
      "The correlation between playing college ball and the incr/dec of batting avg is: 0.029\n"
     ]
    }
   ],
   "source": [
    "avg_diff_college = college_dataset.loc[:,['AVG_DIFF', 'yearID']]\n",
    "corr_test = avg_diff_college.corr()\n",
    "\n",
    "print 'The correlation between playing college ball and the incr/dec of batting avg is:', round(corr_test.iloc[1,0],3)"
   ]
  },
  {
   "cell_type": "markdown",
   "metadata": {},
   "source": [
    "Another weak correlation leads us to the conclusion that there is no real connection between whether an MLB player played baseball in college before the pros and whether or not he had a higher batting avg in the post season compared to the regular season."
   ]
  },
  {
   "cell_type": "markdown",
   "metadata": {},
   "source": [
    "### Check correlation to receiving awards during their career"
   ]
  },
  {
   "cell_type": "code",
   "execution_count": 15,
   "metadata": {
    "collapsed": false
   },
   "outputs": [
    {
     "name": "stdout",
     "output_type": "stream",
     "text": [
      "The correlation between earning an MLB award in your carreer and the incr/dec of batting avg is: 0.038\n"
     ]
    }
   ],
   "source": [
    "avg_diff_awards = awards_dataset.loc[:,['AVG_DIFF', 'yearID']]\n",
    "corr_test = avg_diff_awards.corr()\n",
    "\n",
    "#print avg_diff_college\n",
    "\n",
    "print 'The correlation between earning an MLB award in your carreer and the incr/dec of batting avg is:', round(corr_test.iloc[1,0],3)"
   ]
  },
  {
   "cell_type": "markdown",
   "metadata": {},
   "source": [
    "The third weak correlation also leads us to conclude that there is no connection between the reality that a player earned a league award and whether or not he had a higher batting avg in the post season compared to the regular season."
   ]
  },
  {
   "cell_type": "markdown",
   "metadata": {},
   "source": [
    "# Summary"
   ]
  },
  {
   "cell_type": "markdown",
   "metadata": {},
   "source": [
    "I analyzed the mean batting averages of MLB players from 1900 until 2015 in the regular season in comparison to the post season and found that the difference was statistically significant (a very low p-value was returned).  I further attempted to find a variable that correlated highly with the difference by looking into salaries earned, college experience, or awards won during the regular season.  All of these variables came back with very low correlations leading me to assume that there is no real connection between them and the difference in batting averages.  The real reason may be something more intangible such as a higher level of pressure in the playoffs.  \n",
    "  \n",
    "As with any dataset and analysis, there are certainly limitations in the approach I've taken.  By taking a very large timespan (1900-2015) and looking for trends on that data, I may have missed more subtle changes or differences such as the fact that perhaps in the last 25 years there actually is a correlation between salaries and post season batting avg (just a hypothesis).  In addition, I lumped college experience together whether or not they played 1 year or 4 years.  Perhaps actually playing 4 years in college is truly different from playing any less and its effect on batting averages.  These would be great avenues for future analysis on top of what has already been done."
   ]
  },
  {
   "cell_type": "markdown",
   "metadata": {},
   "source": [
    "### Sources"
   ]
  },
  {
   "cell_type": "markdown",
   "metadata": {},
   "source": [
    "For the secondary y axis graph:  \n",
    "http://stackoverflow.com/questions/15082682/matplotlib-diagrams-with-2-y-axis"
   ]
  },
  {
   "cell_type": "markdown",
   "metadata": {},
   "source": [
    "For all other code:  \n",
    "Udacity nanodegree program"
   ]
  }
 ],
 "metadata": {
  "anaconda-cloud": {},
  "kernelspec": {
   "display_name": "Python [conda root]",
   "language": "python",
   "name": "conda-root-py"
  },
  "language_info": {
   "codemirror_mode": {
    "name": "ipython",
    "version": 2
   },
   "file_extension": ".py",
   "mimetype": "text/x-python",
   "name": "python",
   "nbconvert_exporter": "python",
   "pygments_lexer": "ipython2",
   "version": "2.7.12"
  }
 },
 "nbformat": 4,
 "nbformat_minor": 1
}
