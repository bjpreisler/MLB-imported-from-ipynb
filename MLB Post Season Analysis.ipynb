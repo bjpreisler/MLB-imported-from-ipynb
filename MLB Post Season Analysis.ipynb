{
 "cells": [
  {
   "cell_type": "markdown",
   "metadata": {},
   "source": [
    "## MLB Post Season Analysis\n",
    "By: Brian Preisler\n",
    "Udacity Data Analysis Nanodegree\n",
    "November 2016\n",
    "\n",
    "The questions this analysis will attempt to answer:\n",
    "\n",
    "- Do the batting averages of American Major League baseball players significantly change either positively or negatively in the post season compared to the regular season?  \n",
    "\n",
    "- If post season batting averages are significantly different from the regular season, this analysis will look at three potential leading contributors or independent variables to see which, if any, mostly closely affect the dependent variable  \n",
    "    -Salaries  \n",
    "    -College experience  \n",
    "    -Awards earned in regular season"
   ]
  },
  {
   "cell_type": "markdown",
   "metadata": {},
   "source": [
    "## Load Libraries to be used later"
   ]
  },
  {
   "cell_type": "code",
   "execution_count": 1,
   "metadata": {
    "collapsed": true
   },
   "outputs": [],
   "source": [
    "import numpy as np\n",
    "import pandas as pd\n",
    "import numpy as np\n",
    "import matplotlib as plt \n",
    "import seaborn as sns\n",
    "import scipy\n",
    "from scipy import stats"
   ]
  },
  {
   "cell_type": "markdown",
   "metadata": {},
   "source": [
    "## Load data from CSVs"
   ]
  },
  {
   "cell_type": "code",
   "execution_count": 42,
   "metadata": {
    "collapsed": false
   },
   "outputs": [],
   "source": [
    "#Imports the datasets as dataframes to be used in the analysis\n",
    "batting = pd.read_csv('C:\\\\Users\\\\brian.preisler\\\\Python\\\\P2\\\\baseballdatabank-master\\\\core\\\\batting.csv')\n",
    "batting_post = pd.read_csv('C:\\\\Users\\\\brian.preisler\\\\Python\\\\P2\\\\baseballdatabank-master\\\\core\\\\battingpost.csv')\n",
    "salaries = pd.read_csv('C:\\\\Users\\\\brian.preisler\\\\Python\\\\P2\\\\baseballdatabank-master\\\\core\\\\salaries.csv')\n",
    "college_playing = pd.read_csv('C:\\\\Users\\\\brian.preisler\\\\Python\\\\P2\\\\baseballdatabank-master\\\\core\\\\collegeplaying.csv')\n",
    "awards = pd.read_csv('C:\\\\Users\\\\brian.preisler\\\\Python\\\\P2\\\\baseballdatabank-master\\\\core\\\\awardsplayers.csv')\n"
   ]
  },
  {
   "cell_type": "markdown",
   "metadata": {},
   "source": [
    "### Look at raw data size,length, etc."
   ]
  },
  {
   "cell_type": "code",
   "execution_count": 43,
   "metadata": {
    "collapsed": false
   },
   "outputs": [
    {
     "name": "stdout",
     "output_type": "stream",
     "text": [
      "Index([u'playerID', u'yearID', u'stint', u'teamID', u'lgID', u'G', u'AB', u'R',\n",
      "       u'H', u'2B', u'3B', u'HR', u'RBI', u'SB', u'CS', u'BB', u'SO', u'IBB',\n",
      "       u'HBP', u'SH', u'SF', u'GIDP'],\n",
      "      dtype='object')\n",
      "number of rows in batting: 101332\n",
      "number of rows in batting in the post season: 11690\n",
      "number of rows in batting after grouping on player: 18659\n",
      "same for post season: 3973\n"
     ]
    }
   ],
   "source": [
    "#Print out some data to look at columns as well as original size of datasets\n",
    "print batting.columns\n",
    "print 'number of rows in batting:', len(batting)\n",
    "print 'number of rows in batting in the post season:', len(batting_post)\n",
    "print 'number of rows in batting after grouping on player:',len(batting.groupby('playerID'))\n",
    "print 'same for post season:', len(batting_post.groupby('playerID'))"
   ]
  },
  {
   "cell_type": "markdown",
   "metadata": {},
   "source": [
    "## Clean data types"
   ]
  },
  {
   "cell_type": "code",
   "execution_count": 44,
   "metadata": {
    "collapsed": false
   },
   "outputs": [
    {
     "data": {
      "text/html": [
       "<div>\n",
       "<table border=\"1\" class=\"dataframe\">\n",
       "  <thead>\n",
       "    <tr style=\"text-align: right;\">\n",
       "      <th></th>\n",
       "      <th>playerID</th>\n",
       "      <th>H</th>\n",
       "      <th>AB</th>\n",
       "    </tr>\n",
       "  </thead>\n",
       "  <tbody>\n",
       "    <tr>\n",
       "      <th>201</th>\n",
       "      <td>colliji01</td>\n",
       "      <td>9</td>\n",
       "      <td>36</td>\n",
       "    </tr>\n",
       "    <tr>\n",
       "      <th>202</th>\n",
       "      <td>crigelo01</td>\n",
       "      <td>6</td>\n",
       "      <td>26</td>\n",
       "    </tr>\n",
       "    <tr>\n",
       "      <th>203</th>\n",
       "      <td>dinnebi01</td>\n",
       "      <td>2</td>\n",
       "      <td>11</td>\n",
       "    </tr>\n",
       "    <tr>\n",
       "      <th>204</th>\n",
       "      <td>doughpa01</td>\n",
       "      <td>8</td>\n",
       "      <td>34</td>\n",
       "    </tr>\n",
       "    <tr>\n",
       "      <th>205</th>\n",
       "      <td>farredu01</td>\n",
       "      <td>0</td>\n",
       "      <td>1</td>\n",
       "    </tr>\n",
       "    <tr>\n",
       "      <th>206</th>\n",
       "      <td>ferriho01</td>\n",
       "      <td>9</td>\n",
       "      <td>31</td>\n",
       "    </tr>\n",
       "    <tr>\n",
       "      <th>207</th>\n",
       "      <td>freembu01</td>\n",
       "      <td>9</td>\n",
       "      <td>31</td>\n",
       "    </tr>\n",
       "    <tr>\n",
       "      <th>208</th>\n",
       "      <td>hugheto01</td>\n",
       "      <td>0</td>\n",
       "      <td>0</td>\n",
       "    </tr>\n",
       "    <tr>\n",
       "      <th>209</th>\n",
       "      <td>lachaca01</td>\n",
       "      <td>6</td>\n",
       "      <td>25</td>\n",
       "    </tr>\n",
       "    <tr>\n",
       "      <th>210</th>\n",
       "      <td>obrieja02</td>\n",
       "      <td>0</td>\n",
       "      <td>2</td>\n",
       "    </tr>\n",
       "  </tbody>\n",
       "</table>\n",
       "</div>"
      ],
      "text/plain": [
       "      playerID  H  AB\n",
       "201  colliji01  9  36\n",
       "202  crigelo01  6  26\n",
       "203  dinnebi01  2  11\n",
       "204  doughpa01  8  34\n",
       "205  farredu01  0   1\n",
       "206  ferriho01  9  31\n",
       "207  freembu01  9  31\n",
       "208  hugheto01  0   0\n",
       "209  lachaca01  6  25\n",
       "210  obrieja02  0   2"
      ]
     },
     "execution_count": 44,
     "metadata": {},
     "output_type": "execute_result"
    }
   ],
   "source": [
    "#only use batting stats from the modern era, in alignment with the norm for MLB stat keeping\n",
    "batting = batting.drop(batting[batting.yearID < 1900].index)\n",
    "batting_post = batting_post.drop(batting_post[batting_post.yearID < 1900].index)\n",
    "college_playing = college_playing.drop(college_playing[college_playing.yearID < 1900].index)\n",
    "salaries = salaries.drop(salaries[salaries.yearID < 1900].index)\n",
    "\n",
    "#trim down the imported data to just what is needed for simplicity\n",
    "batting_raw = batting.loc[:, ['playerID', 'H', 'AB']]\n",
    "batting_post_raw = batting_post.loc[:, ['playerID', 'H', 'AB']]\n",
    "college_playing_raw = college_playing.loc[:, ['playerID', 'yearID']]\n",
    "awards_raw = awards.loc[:, ['playerID', 'yearID']]\n",
    "\n",
    "batting_post_raw.head(10)"
   ]
  },
  {
   "cell_type": "markdown",
   "metadata": {},
   "source": [
    "\n",
    "## Arrange data as needed"
   ]
  },
  {
   "cell_type": "code",
   "execution_count": 45,
   "metadata": {
    "collapsed": false
   },
   "outputs": [],
   "source": [
    "#groupbed by player id and then morphed back into df\n",
    "\n",
    "batting_raw_grouped = batting_raw.groupby('playerID', as_index = False)\n",
    "batting_post_raw_grouped = batting_post_raw.groupby('playerID',as_index = False)\n",
    "college_playing_raw_grouped = college_playing_raw.groupby('playerID',as_index = False)\n",
    "salaries_raw_grouped = salaries.groupby('playerID',as_index = False)\n",
    "awards_raw_grouped = awards.groupby('playerID',as_index = False)\n",
    "\n",
    "batting_df = batting_raw_grouped.aggregate(np.sum)\n",
    "bp_df = batting_post_raw_grouped.aggregate(np.sum)\n",
    "cp_df = college_playing_raw_grouped.aggregate(np.sum)\n",
    "salaries_df = salaries_raw_grouped.aggregate(np.sum)\n",
    "awards_df = awards_raw_grouped.aggregate(np.sum)"
   ]
  },
  {
   "cell_type": "code",
   "execution_count": 47,
   "metadata": {
    "collapsed": false
   },
   "outputs": [
    {
     "name": "stdout",
     "output_type": "stream",
     "text": [
      "    playerID     H_x     AB_x  H_y  AB_y       AVG   AVGPOST  AVG_DIFF  yearID\n",
      "0  aaronha01  3771.0  12364.0   25    69  0.304998  0.362319  0.057320     0.0\n",
      "1  aaronto01   216.0    944.0    0     1  0.228814  0.000000 -0.228814     0.0\n",
      "2   abadfe01     1.0      8.0    0     0  0.125000       NaN       NaN     0.0\n",
      "3  abbated01   748.0   2942.0    0     1  0.254249  0.000000 -0.254249     0.0\n",
      "4  abbotje01   157.0    596.0    0     1  0.263423  0.000000 -0.263423  5977.0\n"
     ]
    }
   ],
   "source": [
    "\n",
    "#combine the datasets with an inner join to just keep those players that have stats\n",
    "#in the regular season and post season, and with an outer join to verify if they played\n",
    "#in college\n",
    "\n",
    "def combine_dfs(data1, data2):    \n",
    "    combined = data1.merge(data2, on = 'playerID', how = 'inner')\n",
    "    return combined\n",
    "\n",
    "def combine_dfs_left(data1, data2):    \n",
    "    combined = pd.merge(left = data1, right = data2, how = 'left', left_on = 'playerID', right_on = 'playerID')\n",
    "    return combined\n",
    "\n",
    "#combining datasets in order to compare means more easily and verify the same\n",
    "#number of players\n",
    "batting_combined = combine_dfs(batting_df, bp_df)\n",
    "\n",
    "#add an avg column to the dataset for comparison purposes\n",
    "batting_combined['AVG'] = batting_combined['H_x'] / batting_combined['AB_x']\n",
    "batting_combined['AVGPOST'] = batting_combined['H_y'] / batting_combined['AB_y']\n",
    "\n",
    "#create a difference column to see which players performed better or worse in post season\n",
    "batting_combined['AVG_DIFF'] = batting_combined['AVGPOST'] - batting_combined['AVG']\n",
    "\n",
    "#using aforementioned function to keep all players in both datasets\n",
    "batting_combined_college = combine_dfs_left(batting_combined, cp_df)\n",
    "batting_combined_awards = combine_dfs_left(batting_combined, awards_df)\n",
    "\n",
    "#print len(batting_combined_college)\n",
    "\n",
    "#in order to make a binary column later on, replace Nans with a 0\n",
    "batting_combined_college['yearID'].fillna(0, inplace=True)\n",
    "batting_combined_awards['yearID'].fillna(0, inplace=True)\n",
    "\n",
    "\n",
    "print batting_combined_college.head()"
   ]
  },
  {
   "cell_type": "markdown",
   "metadata": {},
   "source": [
    "## Continue to prep data for future correlation analysis"
   ]
  },
  {
   "cell_type": "code",
   "execution_count": 48,
   "metadata": {
    "collapsed": false
   },
   "outputs": [
    {
     "data": {
      "text/html": [
       "<div>\n",
       "<table border=\"1\" class=\"dataframe\">\n",
       "  <thead>\n",
       "    <tr style=\"text-align: right;\">\n",
       "      <th></th>\n",
       "      <th>playerID</th>\n",
       "      <th>H_x</th>\n",
       "      <th>AB_x</th>\n",
       "      <th>H_y</th>\n",
       "      <th>AB_y</th>\n",
       "      <th>AVG</th>\n",
       "      <th>AVGPOST</th>\n",
       "      <th>AVG_DIFF</th>\n",
       "      <th>yearID</th>\n",
       "    </tr>\n",
       "  </thead>\n",
       "  <tbody>\n",
       "    <tr>\n",
       "      <th>0</th>\n",
       "      <td>aaronha01</td>\n",
       "      <td>3771.0</td>\n",
       "      <td>12364.0</td>\n",
       "      <td>25</td>\n",
       "      <td>69</td>\n",
       "      <td>0.304998</td>\n",
       "      <td>0.362319</td>\n",
       "      <td>0.057320</td>\n",
       "      <td>0</td>\n",
       "    </tr>\n",
       "    <tr>\n",
       "      <th>1</th>\n",
       "      <td>aaronto01</td>\n",
       "      <td>216.0</td>\n",
       "      <td>944.0</td>\n",
       "      <td>0</td>\n",
       "      <td>1</td>\n",
       "      <td>0.228814</td>\n",
       "      <td>0.000000</td>\n",
       "      <td>-0.228814</td>\n",
       "      <td>0</td>\n",
       "    </tr>\n",
       "    <tr>\n",
       "      <th>2</th>\n",
       "      <td>abadfe01</td>\n",
       "      <td>1.0</td>\n",
       "      <td>8.0</td>\n",
       "      <td>0</td>\n",
       "      <td>0</td>\n",
       "      <td>0.125000</td>\n",
       "      <td>NaN</td>\n",
       "      <td>NaN</td>\n",
       "      <td>0</td>\n",
       "    </tr>\n",
       "    <tr>\n",
       "      <th>3</th>\n",
       "      <td>abbated01</td>\n",
       "      <td>748.0</td>\n",
       "      <td>2942.0</td>\n",
       "      <td>0</td>\n",
       "      <td>1</td>\n",
       "      <td>0.254249</td>\n",
       "      <td>0.000000</td>\n",
       "      <td>-0.254249</td>\n",
       "      <td>0</td>\n",
       "    </tr>\n",
       "    <tr>\n",
       "      <th>4</th>\n",
       "      <td>abbotje01</td>\n",
       "      <td>157.0</td>\n",
       "      <td>596.0</td>\n",
       "      <td>0</td>\n",
       "      <td>1</td>\n",
       "      <td>0.263423</td>\n",
       "      <td>0.000000</td>\n",
       "      <td>-0.263423</td>\n",
       "      <td>1</td>\n",
       "    </tr>\n",
       "  </tbody>\n",
       "</table>\n",
       "</div>"
      ],
      "text/plain": [
       "    playerID     H_x     AB_x  H_y  AB_y       AVG   AVGPOST  AVG_DIFF  yearID\n",
       "0  aaronha01  3771.0  12364.0   25    69  0.304998  0.362319  0.057320       0\n",
       "1  aaronto01   216.0    944.0    0     1  0.228814  0.000000 -0.228814       0\n",
       "2   abadfe01     1.0      8.0    0     0  0.125000       NaN       NaN       0\n",
       "3  abbated01   748.0   2942.0    0     1  0.254249  0.000000 -0.254249       0\n",
       "4  abbotje01   157.0    596.0    0     1  0.263423  0.000000 -0.263423       1"
      ]
     },
     "execution_count": 48,
     "metadata": {},
     "output_type": "execute_result"
    }
   ],
   "source": [
    "#define function to be used to add binary column\n",
    "def invert(data):\n",
    "    if data > 0:\n",
    "        return 1\n",
    "    else:\n",
    "        return 0   \n",
    "def played_in_college(df):\n",
    "    over_write = df['yearID'].apply(invert)\n",
    "    df['yearID'] = over_write\n",
    "    return df\n",
    "          \n",
    "college_dataset = played_in_college(batting_combined_college)\n",
    "awards_dataset = played_in_college(batting_combined_awards)\n",
    "\n",
    "college_dataset.head()"
   ]
  },
  {
   "cell_type": "markdown",
   "metadata": {},
   "source": [
    "## Investigating the data"
   ]
  },
  {
   "cell_type": "code",
   "execution_count": 49,
   "metadata": {
    "collapsed": false,
    "scrolled": true
   },
   "outputs": [
    {
     "name": "stdout",
     "output_type": "stream",
     "text": [
      "The average of players batting in the regular season is: 0.218\n",
      "The average of players batting in the post season is: 0.197\n"
     ]
    },
    {
     "data": {
      "image/png": "[encoded data removed]",
      "text/plain": [
       "<matplotlib.figure.Figure at 0xf5b77f0>"
      ]
     },
     "metadata": {},
     "output_type": "display_data"
    }
   ],
   "source": [
    "%matplotlib inline\n",
    "\n",
    "#allow figures to continue opening past warnings\n",
    "plt.rcParams.update({'figure.max_open_warning': 0})\n",
    "\n",
    "#finding the means of the two groups \n",
    "print 'The average of players batting in the regular season is:', round(batting_combined['AVG'].mean(),3)\n",
    "print 'The average of players batting in the post season is:', round(batting_combined['AVGPOST'].mean(),3)\n",
    "\n",
    "#placing the two sets of avg data into one df to be used when plotting and testing\n",
    "avg_avgpost = batting_combined.loc[:,['AVG', 'AVGPOST']]\n",
    "\n",
    "#checking out normality of distributions\n",
    "avg_avgpost.plot.hist(by='AVG', bins=30);\n"
   ]
  },
  {
   "cell_type": "markdown",
   "metadata": {
    "collapsed": true
   },
   "source": [
    "## Determine Statistical Sig of means difference\n"
   ]
  },
  {
   "cell_type": "code",
   "execution_count": 50,
   "metadata": {
    "collapsed": false
   },
   "outputs": [
    {
     "data": {
      "text/plain": [
       "Ttest_relResult(statistic=12.297664268621062, pvalue=5.9131855996600482e-34)"
      ]
     },
     "execution_count": 50,
     "metadata": {},
     "output_type": "execute_result"
    }
   ],
   "source": [
    "#running a paired t-test to determine if diff of means could be due to chance\n",
    "scipy.stats.ttest_rel(avg_avgpost.loc[:, 'AVG'], avg_avgpost.loc[:, 'AVGPOST'], axis=0, nan_policy='omit')\n"
   ]
  },
  {
   "cell_type": "markdown",
   "metadata": {},
   "source": [
    "## Investigate variables that could explain difference"
   ]
  },
  {
   "cell_type": "code",
   "execution_count": 51,
   "metadata": {
    "collapsed": false
   },
   "outputs": [
    {
     "name": "stdout",
     "output_type": "stream",
     "text": [
      "The correlation between salaries and the incr/dec of batting avg is: 0.005\n"
     ]
    }
   ],
   "source": [
    "#investigate whether salaries have an impact by checking the correlation with AVG_DIFF\n",
    "batting_combined_salaries = combine_dfs(batting_combined, salaries_df)\n",
    "\n",
    "#check and see if any player variable correlate to their post season performance\n",
    "avg_diff_salaries = batting_combined_salaries.loc[:,['AVG_DIFF', 'salary']]\n",
    "corr_test = avg_diff_salaries.corr()\n",
    "\n",
    "print 'The correlation between salaries and the incr/dec of batting avg is:', round(corr_test.iloc[1,0],3)"
   ]
  },
  {
   "cell_type": "markdown",
   "metadata": {},
   "source": [
    "### Check correlation to college attendance"
   ]
  },
  {
   "cell_type": "code",
   "execution_count": 37,
   "metadata": {
    "collapsed": false
   },
   "outputs": [
    {
     "name": "stdout",
     "output_type": "stream",
     "text": [
      "The correlation between playing college ball and the incr/dec of batting avg is: 0.029\n"
     ]
    }
   ],
   "source": [
    "avg_diff_college = batting_combined_college.loc[:,['AVG_DIFF', 'yearID']]\n",
    "corr_test = avg_diff_college.corr()\n",
    "\n",
    "#print avg_diff_college\n",
    "\n",
    "print 'The correlation between playing college ball and the incr/dec of batting avg is:', round(corr_test.iloc[1,0],3)"
   ]
  },
  {
   "cell_type": "markdown",
   "metadata": {},
   "source": [
    "### Check correlation to receiving awards during their career"
   ]
  },
  {
   "cell_type": "code",
   "execution_count": 53,
   "metadata": {
    "collapsed": false
   },
   "outputs": [
    {
     "name": "stdout",
     "output_type": "stream",
     "text": [
      "The correlation between playing college ball and the incr/dec of batting avg is: 0.038\n"
     ]
    }
   ],
   "source": [
    "avg_diff_awards = batting_combined_awards.loc[:,['AVG_DIFF', 'yearID']]\n",
    "corr_test = avg_diff_awards.corr()\n",
    "\n",
    "#print avg_diff_college\n",
    "\n",
    "print 'The correlation between playing college ball and the incr/dec of batting avg is:', round(corr_test.iloc[1,0],3)"
   ]
  },
  {
   "cell_type": "code",
   "execution_count": null,
   "metadata": {
    "collapsed": true
   },
   "outputs": [],
   "source": []
  }
 ],
 "metadata": {
  "anaconda-cloud": {},
  "kernelspec": {
   "display_name": "Python [conda root]",
   "language": "python",
   "name": "conda-root-py"
  },
  "language_info": {
   "codemirror_mode": {
    "name": "ipython",
    "version": 2
   },
   "file_extension": ".py",
   "mimetype": "text/x-python",
   "name": "python",
   "nbconvert_exporter": "python",
   "pygments_lexer": "ipython2",
   "version": "2.7.12"
  }
 },
 "nbformat": 4,
 "nbformat_minor": 1
}
